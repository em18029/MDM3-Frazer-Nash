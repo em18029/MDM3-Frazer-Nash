{
  "cells": [
    {
      "cell_type": "markdown",
      "source": [
        "Importing Packages"
      ],
      "metadata": {
        "id": "8xhEWAwaPjWv"
      }
    },
    {
      "cell_type": "code",
      "execution_count": 2,
      "metadata": {
        "id": "CIlskjZAMDww"
      },
      "outputs": [],
      "source": [
        "import pandas as pd\n",
        "import numpy as np\n",
        "import math\n",
        "from math import sqrt\n",
        "from sklearn.metrics import *\n",
        "from numpy import concatenate\n",
        "from matplotlib import pyplot\n",
        "from pandas import read_csv\n",
        "from pandas import DataFrame\n",
        "from pandas import concat\n",
        "from sklearn.impute import SimpleImputer\n",
        "from sklearn.preprocessing import MinMaxScaler\n",
        "from sklearn.preprocessing import LabelEncoder\n",
        "from sklearn.metrics import mean_squared_error\n",
        "from keras.models import Sequential\n",
        "from keras.layers import Dense,LSTM, Dropout\n",
        "import tensorflow as tf\n",
        "from datetime import datetime\n"
      ]
    },
    {
      "cell_type": "markdown",
      "source": [
        "Mounting Drive and importing data"
      ],
      "metadata": {
        "id": "kAs0xaXzPsXQ"
      }
    },
    {
      "cell_type": "code",
      "execution_count": 3,
      "metadata": {
        "id": "Z-R5z-jlI9e5",
        "colab": {
          "base_uri": "https://localhost:8080/"
        },
        "outputId": "5c4719ea-033f-4a9b-c8e6-84a32a37a31f"
      },
      "outputs": [
        {
          "output_type": "stream",
          "name": "stdout",
          "text": [
            "Drive already mounted at /content/drive; to attempt to forcibly remount, call drive.mount(\"/content/drive\", force_remount=True).\n",
            "Requirement already satisfied: openpyxl in /usr/local/lib/python3.7/dist-packages (3.0.9)\n",
            "Requirement already satisfied: et-xmlfile in /usr/local/lib/python3.7/dist-packages (from openpyxl) (1.1.0)\n"
          ]
        }
      ],
      "source": [
        "from google.colab import drive\n",
        "drive.mount('/content/drive')\n",
        "!pip install --upgrade openpyxl\n",
        "reanalysis_org = pd.read_excel('/content/drive/MyDrive/Dataset/reanalysis_Cleaned_new.xlsx')\n",
        "df = reanalysis_org\n",
        "df = pd.concat([df['Temperature'],df['Relative_Humidity'], df['Atmospheric_Pressure'],df['Measured_Windspeed']], axis=1)\n",
        "reanalysis=df"
      ]
    },
    {
      "cell_type": "markdown",
      "source": [
        "The Long Short Term Memory Neural Network"
      ],
      "metadata": {
        "id": "MlPZZsl0ZiiY"
      }
    },
    {
      "cell_type": "code",
      "execution_count": 4,
      "metadata": {
        "colab": {
          "base_uri": "https://localhost:8080/",
          "height": 814
        },
        "id": "EaSNUpkLh0Z4",
        "outputId": "3e77a607-d12e-4adf-b32d-7bf77c4cd462"
      },
      "outputs": [
        {
          "output_type": "stream",
          "name": "stdout",
          "text": [
            "Model: \"sequential\"\n",
            "_________________________________________________________________\n",
            " Layer (type)                Output Shape              Param #   \n",
            "=================================================================\n",
            " lstm (LSTM)                 (None, 1, 20)             2000      \n",
            "                                                                 \n",
            " lstm_1 (LSTM)               (None, 1, 20)             3280      \n",
            "                                                                 \n",
            " dropout (Dropout)           (None, 1, 20)             0         \n",
            "                                                                 \n",
            " lstm_2 (LSTM)               (None, 6)                 648       \n",
            "                                                                 \n",
            " dense (Dense)               (None, 1)                 7         \n",
            "                                                                 \n",
            "=================================================================\n",
            "Total params: 5,935\n",
            "Trainable params: 5,935\n",
            "Non-trainable params: 0\n",
            "_________________________________________________________________\n",
            "Epoch 1/10\n",
            "1439/1439 [==============================] - 27s 12ms/step - loss: 0.0052 - val_loss: 0.0031\n",
            "Epoch 2/10\n",
            "1439/1439 [==============================] - 13s 9ms/step - loss: 0.0019 - val_loss: 0.0032\n",
            "Epoch 3/10\n",
            " 866/1439 [=================>............] - ETA: 3s - loss: 0.0017"
          ]
        },
        {
          "output_type": "error",
          "ename": "KeyboardInterrupt",
          "evalue": "ignored",
          "traceback": [
            "\u001b[0;31m---------------------------------------------------------------------------\u001b[0m",
            "\u001b[0;31mKeyboardInterrupt\u001b[0m                         Traceback (most recent call last)",
            "\u001b[0;32m<ipython-input-4-973a500da69b>\u001b[0m in \u001b[0;36m<module>\u001b[0;34m()\u001b[0m\n\u001b[1;32m    126\u001b[0m   \u001b[0mX_train\u001b[0m\u001b[0;34m,\u001b[0m\u001b[0mY_train\u001b[0m\u001b[0;34m,\u001b[0m\u001b[0mX_test\u001b[0m\u001b[0;34m,\u001b[0m\u001b[0mY_test\u001b[0m \u001b[0;34m=\u001b[0m \u001b[0mtrain_test_split\u001b[0m\u001b[0;34m(\u001b[0m\u001b[0mdf\u001b[0m\u001b[0;34m,\u001b[0m\u001b[0;36m0.7\u001b[0m\u001b[0;34m)\u001b[0m\u001b[0;34m\u001b[0m\u001b[0;34m\u001b[0m\u001b[0m\n\u001b[1;32m    127\u001b[0m   \u001b[0mLSTMN\u001b[0m\u001b[0;34m=\u001b[0m \u001b[0mbuild_model\u001b[0m\u001b[0;34m(\u001b[0m\u001b[0;34m)\u001b[0m\u001b[0;34m\u001b[0m\u001b[0;34m\u001b[0m\u001b[0m\n\u001b[0;32m--> 128\u001b[0;31m   \u001b[0mtrainPredict\u001b[0m\u001b[0;34m,\u001b[0m\u001b[0mtestPredict\u001b[0m\u001b[0;34m,\u001b[0m\u001b[0mY_test\u001b[0m \u001b[0;34m=\u001b[0m \u001b[0mLSTMN_compile\u001b[0m\u001b[0;34m(\u001b[0m\u001b[0mLSTMN\u001b[0m\u001b[0;34m,\u001b[0m\u001b[0mX_train\u001b[0m\u001b[0;34m,\u001b[0m\u001b[0mY_train\u001b[0m\u001b[0;34m,\u001b[0m\u001b[0mX_test\u001b[0m\u001b[0;34m,\u001b[0m\u001b[0mY_test\u001b[0m\u001b[0;34m)\u001b[0m\u001b[0;34m\u001b[0m\u001b[0;34m\u001b[0m\u001b[0m\n\u001b[0m\u001b[1;32m    129\u001b[0m   \u001b[0mproduce_stats_analysis\u001b[0m\u001b[0;34m(\u001b[0m\u001b[0mtestPredict\u001b[0m\u001b[0;34m,\u001b[0m\u001b[0mY_test\u001b[0m\u001b[0;34m)\u001b[0m\u001b[0;34m\u001b[0m\u001b[0;34m\u001b[0m\u001b[0m\n\u001b[1;32m    130\u001b[0m   \u001b[0mpredicted_windspeed\u001b[0m \u001b[0;34m=\u001b[0m \u001b[0mproduce_acc_pred_plt\u001b[0m\u001b[0;34m(\u001b[0m\u001b[0mnormaliser\u001b[0m\u001b[0;34m)\u001b[0m\u001b[0;34m\u001b[0m\u001b[0;34m\u001b[0m\u001b[0m\n",
            "\u001b[0;32m<ipython-input-4-973a500da69b>\u001b[0m in \u001b[0;36mLSTMN_compile\u001b[0;34m(LSTMN, X_train, Y_train, X_test, Y_test)\u001b[0m\n\u001b[1;32m     58\u001b[0m     \u001b[0mLSTMN\u001b[0m\u001b[0;34m.\u001b[0m\u001b[0mcompile\u001b[0m\u001b[0;34m(\u001b[0m\u001b[0mloss\u001b[0m\u001b[0;34m=\u001b[0m\u001b[0;34m'mse'\u001b[0m\u001b[0;34m,\u001b[0m \u001b[0moptimizer\u001b[0m\u001b[0;34m=\u001b[0m\u001b[0;34m'adam'\u001b[0m\u001b[0;34m)\u001b[0m\u001b[0;34m\u001b[0m\u001b[0;34m\u001b[0m\u001b[0m\n\u001b[1;32m     59\u001b[0m     \u001b[0mLSTMN\u001b[0m\u001b[0;34m.\u001b[0m\u001b[0msummary\u001b[0m\u001b[0;34m(\u001b[0m\u001b[0;34m)\u001b[0m\u001b[0;34m\u001b[0m\u001b[0;34m\u001b[0m\u001b[0m\n\u001b[0;32m---> 60\u001b[0;31m     \u001b[0mLSTMN_history\u001b[0m \u001b[0;34m=\u001b[0m \u001b[0mLSTMN\u001b[0m\u001b[0;34m.\u001b[0m\u001b[0mfit\u001b[0m\u001b[0;34m(\u001b[0m\u001b[0mX_train\u001b[0m\u001b[0;34m,\u001b[0m \u001b[0mY_train\u001b[0m\u001b[0;34m,\u001b[0m \u001b[0mepochs\u001b[0m\u001b[0;34m=\u001b[0m\u001b[0;36m10\u001b[0m\u001b[0;34m,\u001b[0m\u001b[0mvalidation_data\u001b[0m\u001b[0;34m=\u001b[0m\u001b[0;34m(\u001b[0m\u001b[0mX_test\u001b[0m\u001b[0;34m,\u001b[0m \u001b[0mY_test\u001b[0m\u001b[0;34m)\u001b[0m\u001b[0;34m,\u001b[0m \u001b[0mbatch_size\u001b[0m\u001b[0;34m=\u001b[0m\u001b[0;36m64\u001b[0m\u001b[0;34m,\u001b[0m \u001b[0mshuffle\u001b[0m\u001b[0;34m=\u001b[0m\u001b[0;32mFalse\u001b[0m\u001b[0;34m)\u001b[0m\u001b[0;34m\u001b[0m\u001b[0;34m\u001b[0m\u001b[0m\n\u001b[0m\u001b[1;32m     61\u001b[0m     \u001b[0mtrainPredict\u001b[0m\u001b[0;34m=\u001b[0m  \u001b[0mLSTMN\u001b[0m\u001b[0;34m.\u001b[0m\u001b[0mpredict\u001b[0m\u001b[0;34m(\u001b[0m\u001b[0mX_train\u001b[0m\u001b[0;34m)\u001b[0m\u001b[0;34m\u001b[0m\u001b[0;34m\u001b[0m\u001b[0m\n\u001b[1;32m     62\u001b[0m     \u001b[0mtestPredict\u001b[0m \u001b[0;34m=\u001b[0m  \u001b[0mLSTMN\u001b[0m\u001b[0;34m.\u001b[0m\u001b[0mpredict\u001b[0m\u001b[0;34m(\u001b[0m\u001b[0mX_test\u001b[0m\u001b[0;34m)\u001b[0m\u001b[0;34m\u001b[0m\u001b[0;34m\u001b[0m\u001b[0m\n",
            "\u001b[0;32m/usr/local/lib/python3.7/dist-packages/keras/utils/traceback_utils.py\u001b[0m in \u001b[0;36merror_handler\u001b[0;34m(*args, **kwargs)\u001b[0m\n\u001b[1;32m     62\u001b[0m     \u001b[0mfiltered_tb\u001b[0m \u001b[0;34m=\u001b[0m \u001b[0;32mNone\u001b[0m\u001b[0;34m\u001b[0m\u001b[0;34m\u001b[0m\u001b[0m\n\u001b[1;32m     63\u001b[0m     \u001b[0;32mtry\u001b[0m\u001b[0;34m:\u001b[0m\u001b[0;34m\u001b[0m\u001b[0;34m\u001b[0m\u001b[0m\n\u001b[0;32m---> 64\u001b[0;31m       \u001b[0;32mreturn\u001b[0m \u001b[0mfn\u001b[0m\u001b[0;34m(\u001b[0m\u001b[0;34m*\u001b[0m\u001b[0margs\u001b[0m\u001b[0;34m,\u001b[0m \u001b[0;34m**\u001b[0m\u001b[0mkwargs\u001b[0m\u001b[0;34m)\u001b[0m\u001b[0;34m\u001b[0m\u001b[0;34m\u001b[0m\u001b[0m\n\u001b[0m\u001b[1;32m     65\u001b[0m     \u001b[0;32mexcept\u001b[0m \u001b[0mException\u001b[0m \u001b[0;32mas\u001b[0m \u001b[0me\u001b[0m\u001b[0;34m:\u001b[0m  \u001b[0;31m# pylint: disable=broad-except\u001b[0m\u001b[0;34m\u001b[0m\u001b[0;34m\u001b[0m\u001b[0m\n\u001b[1;32m     66\u001b[0m       \u001b[0mfiltered_tb\u001b[0m \u001b[0;34m=\u001b[0m \u001b[0m_process_traceback_frames\u001b[0m\u001b[0;34m(\u001b[0m\u001b[0me\u001b[0m\u001b[0;34m.\u001b[0m\u001b[0m__traceback__\u001b[0m\u001b[0;34m)\u001b[0m\u001b[0;34m\u001b[0m\u001b[0;34m\u001b[0m\u001b[0m\n",
            "\u001b[0;32m/usr/local/lib/python3.7/dist-packages/keras/engine/training.py\u001b[0m in \u001b[0;36mfit\u001b[0;34m(self, x, y, batch_size, epochs, verbose, callbacks, validation_split, validation_data, shuffle, class_weight, sample_weight, initial_epoch, steps_per_epoch, validation_steps, validation_batch_size, validation_freq, max_queue_size, workers, use_multiprocessing)\u001b[0m\n\u001b[1;32m   1382\u001b[0m                 _r=1):\n\u001b[1;32m   1383\u001b[0m               \u001b[0mcallbacks\u001b[0m\u001b[0;34m.\u001b[0m\u001b[0mon_train_batch_begin\u001b[0m\u001b[0;34m(\u001b[0m\u001b[0mstep\u001b[0m\u001b[0;34m)\u001b[0m\u001b[0;34m\u001b[0m\u001b[0;34m\u001b[0m\u001b[0m\n\u001b[0;32m-> 1384\u001b[0;31m               \u001b[0mtmp_logs\u001b[0m \u001b[0;34m=\u001b[0m \u001b[0mself\u001b[0m\u001b[0;34m.\u001b[0m\u001b[0mtrain_function\u001b[0m\u001b[0;34m(\u001b[0m\u001b[0miterator\u001b[0m\u001b[0;34m)\u001b[0m\u001b[0;34m\u001b[0m\u001b[0;34m\u001b[0m\u001b[0m\n\u001b[0m\u001b[1;32m   1385\u001b[0m               \u001b[0;32mif\u001b[0m \u001b[0mdata_handler\u001b[0m\u001b[0;34m.\u001b[0m\u001b[0mshould_sync\u001b[0m\u001b[0;34m:\u001b[0m\u001b[0;34m\u001b[0m\u001b[0;34m\u001b[0m\u001b[0m\n\u001b[1;32m   1386\u001b[0m                 \u001b[0mcontext\u001b[0m\u001b[0;34m.\u001b[0m\u001b[0masync_wait\u001b[0m\u001b[0;34m(\u001b[0m\u001b[0;34m)\u001b[0m\u001b[0;34m\u001b[0m\u001b[0;34m\u001b[0m\u001b[0m\n",
            "\u001b[0;32m/usr/local/lib/python3.7/dist-packages/tensorflow/python/util/traceback_utils.py\u001b[0m in \u001b[0;36merror_handler\u001b[0;34m(*args, **kwargs)\u001b[0m\n\u001b[1;32m    148\u001b[0m     \u001b[0mfiltered_tb\u001b[0m \u001b[0;34m=\u001b[0m \u001b[0;32mNone\u001b[0m\u001b[0;34m\u001b[0m\u001b[0;34m\u001b[0m\u001b[0m\n\u001b[1;32m    149\u001b[0m     \u001b[0;32mtry\u001b[0m\u001b[0;34m:\u001b[0m\u001b[0;34m\u001b[0m\u001b[0;34m\u001b[0m\u001b[0m\n\u001b[0;32m--> 150\u001b[0;31m       \u001b[0;32mreturn\u001b[0m \u001b[0mfn\u001b[0m\u001b[0;34m(\u001b[0m\u001b[0;34m*\u001b[0m\u001b[0margs\u001b[0m\u001b[0;34m,\u001b[0m \u001b[0;34m**\u001b[0m\u001b[0mkwargs\u001b[0m\u001b[0;34m)\u001b[0m\u001b[0;34m\u001b[0m\u001b[0;34m\u001b[0m\u001b[0m\n\u001b[0m\u001b[1;32m    151\u001b[0m     \u001b[0;32mexcept\u001b[0m \u001b[0mException\u001b[0m \u001b[0;32mas\u001b[0m \u001b[0me\u001b[0m\u001b[0;34m:\u001b[0m\u001b[0;34m\u001b[0m\u001b[0;34m\u001b[0m\u001b[0m\n\u001b[1;32m    152\u001b[0m       \u001b[0mfiltered_tb\u001b[0m \u001b[0;34m=\u001b[0m \u001b[0m_process_traceback_frames\u001b[0m\u001b[0;34m(\u001b[0m\u001b[0me\u001b[0m\u001b[0;34m.\u001b[0m\u001b[0m__traceback__\u001b[0m\u001b[0;34m)\u001b[0m\u001b[0;34m\u001b[0m\u001b[0;34m\u001b[0m\u001b[0m\n",
            "\u001b[0;32m/usr/local/lib/python3.7/dist-packages/tensorflow/python/eager/def_function.py\u001b[0m in \u001b[0;36m__call__\u001b[0;34m(self, *args, **kwds)\u001b[0m\n\u001b[1;32m    913\u001b[0m \u001b[0;34m\u001b[0m\u001b[0m\n\u001b[1;32m    914\u001b[0m       \u001b[0;32mwith\u001b[0m \u001b[0mOptionalXlaContext\u001b[0m\u001b[0;34m(\u001b[0m\u001b[0mself\u001b[0m\u001b[0;34m.\u001b[0m\u001b[0m_jit_compile\u001b[0m\u001b[0;34m)\u001b[0m\u001b[0;34m:\u001b[0m\u001b[0;34m\u001b[0m\u001b[0;34m\u001b[0m\u001b[0m\n\u001b[0;32m--> 915\u001b[0;31m         \u001b[0mresult\u001b[0m \u001b[0;34m=\u001b[0m \u001b[0mself\u001b[0m\u001b[0;34m.\u001b[0m\u001b[0m_call\u001b[0m\u001b[0;34m(\u001b[0m\u001b[0;34m*\u001b[0m\u001b[0margs\u001b[0m\u001b[0;34m,\u001b[0m \u001b[0;34m**\u001b[0m\u001b[0mkwds\u001b[0m\u001b[0;34m)\u001b[0m\u001b[0;34m\u001b[0m\u001b[0;34m\u001b[0m\u001b[0m\n\u001b[0m\u001b[1;32m    916\u001b[0m \u001b[0;34m\u001b[0m\u001b[0m\n\u001b[1;32m    917\u001b[0m       \u001b[0mnew_tracing_count\u001b[0m \u001b[0;34m=\u001b[0m \u001b[0mself\u001b[0m\u001b[0;34m.\u001b[0m\u001b[0mexperimental_get_tracing_count\u001b[0m\u001b[0;34m(\u001b[0m\u001b[0;34m)\u001b[0m\u001b[0;34m\u001b[0m\u001b[0;34m\u001b[0m\u001b[0m\n",
            "\u001b[0;32m/usr/local/lib/python3.7/dist-packages/tensorflow/python/eager/def_function.py\u001b[0m in \u001b[0;36m_call\u001b[0;34m(self, *args, **kwds)\u001b[0m\n\u001b[1;32m    945\u001b[0m       \u001b[0;31m# In this case we have created variables on the first call, so we run the\u001b[0m\u001b[0;34m\u001b[0m\u001b[0;34m\u001b[0m\u001b[0;34m\u001b[0m\u001b[0m\n\u001b[1;32m    946\u001b[0m       \u001b[0;31m# defunned version which is guaranteed to never create variables.\u001b[0m\u001b[0;34m\u001b[0m\u001b[0;34m\u001b[0m\u001b[0;34m\u001b[0m\u001b[0m\n\u001b[0;32m--> 947\u001b[0;31m       \u001b[0;32mreturn\u001b[0m \u001b[0mself\u001b[0m\u001b[0;34m.\u001b[0m\u001b[0m_stateless_fn\u001b[0m\u001b[0;34m(\u001b[0m\u001b[0;34m*\u001b[0m\u001b[0margs\u001b[0m\u001b[0;34m,\u001b[0m \u001b[0;34m**\u001b[0m\u001b[0mkwds\u001b[0m\u001b[0;34m)\u001b[0m  \u001b[0;31m# pylint: disable=not-callable\u001b[0m\u001b[0;34m\u001b[0m\u001b[0;34m\u001b[0m\u001b[0m\n\u001b[0m\u001b[1;32m    948\u001b[0m     \u001b[0;32melif\u001b[0m \u001b[0mself\u001b[0m\u001b[0;34m.\u001b[0m\u001b[0m_stateful_fn\u001b[0m \u001b[0;32mis\u001b[0m \u001b[0;32mnot\u001b[0m \u001b[0;32mNone\u001b[0m\u001b[0;34m:\u001b[0m\u001b[0;34m\u001b[0m\u001b[0;34m\u001b[0m\u001b[0m\n\u001b[1;32m    949\u001b[0m       \u001b[0;31m# Release the lock early so that multiple threads can perform the call\u001b[0m\u001b[0;34m\u001b[0m\u001b[0;34m\u001b[0m\u001b[0;34m\u001b[0m\u001b[0m\n",
            "\u001b[0;32m/usr/local/lib/python3.7/dist-packages/tensorflow/python/eager/function.py\u001b[0m in \u001b[0;36m__call__\u001b[0;34m(self, *args, **kwargs)\u001b[0m\n\u001b[1;32m   2955\u001b[0m        filtered_flat_args) = self._maybe_define_function(args, kwargs)\n\u001b[1;32m   2956\u001b[0m     return graph_function._call_flat(\n\u001b[0;32m-> 2957\u001b[0;31m         filtered_flat_args, captured_inputs=graph_function.captured_inputs)  # pylint: disable=protected-access\n\u001b[0m\u001b[1;32m   2958\u001b[0m \u001b[0;34m\u001b[0m\u001b[0m\n\u001b[1;32m   2959\u001b[0m   \u001b[0;34m@\u001b[0m\u001b[0mproperty\u001b[0m\u001b[0;34m\u001b[0m\u001b[0;34m\u001b[0m\u001b[0m\n",
            "\u001b[0;32m/usr/local/lib/python3.7/dist-packages/tensorflow/python/eager/function.py\u001b[0m in \u001b[0;36m_call_flat\u001b[0;34m(self, args, captured_inputs, cancellation_manager)\u001b[0m\n\u001b[1;32m   1852\u001b[0m       \u001b[0;31m# No tape is watching; skip to running the function.\u001b[0m\u001b[0;34m\u001b[0m\u001b[0;34m\u001b[0m\u001b[0;34m\u001b[0m\u001b[0m\n\u001b[1;32m   1853\u001b[0m       return self._build_call_outputs(self._inference_function.call(\n\u001b[0;32m-> 1854\u001b[0;31m           ctx, args, cancellation_manager=cancellation_manager))\n\u001b[0m\u001b[1;32m   1855\u001b[0m     forward_backward = self._select_forward_and_backward_functions(\n\u001b[1;32m   1856\u001b[0m         \u001b[0margs\u001b[0m\u001b[0;34m,\u001b[0m\u001b[0;34m\u001b[0m\u001b[0;34m\u001b[0m\u001b[0m\n",
            "\u001b[0;32m/usr/local/lib/python3.7/dist-packages/tensorflow/python/eager/function.py\u001b[0m in \u001b[0;36mcall\u001b[0;34m(self, ctx, args, cancellation_manager)\u001b[0m\n\u001b[1;32m    502\u001b[0m               \u001b[0minputs\u001b[0m\u001b[0;34m=\u001b[0m\u001b[0margs\u001b[0m\u001b[0;34m,\u001b[0m\u001b[0;34m\u001b[0m\u001b[0;34m\u001b[0m\u001b[0m\n\u001b[1;32m    503\u001b[0m               \u001b[0mattrs\u001b[0m\u001b[0;34m=\u001b[0m\u001b[0mattrs\u001b[0m\u001b[0;34m,\u001b[0m\u001b[0;34m\u001b[0m\u001b[0;34m\u001b[0m\u001b[0m\n\u001b[0;32m--> 504\u001b[0;31m               ctx=ctx)\n\u001b[0m\u001b[1;32m    505\u001b[0m         \u001b[0;32melse\u001b[0m\u001b[0;34m:\u001b[0m\u001b[0;34m\u001b[0m\u001b[0;34m\u001b[0m\u001b[0m\n\u001b[1;32m    506\u001b[0m           outputs = execute.execute_with_cancellation(\n",
            "\u001b[0;32m/usr/local/lib/python3.7/dist-packages/tensorflow/python/eager/execute.py\u001b[0m in \u001b[0;36mquick_execute\u001b[0;34m(op_name, num_outputs, inputs, attrs, ctx, name)\u001b[0m\n\u001b[1;32m     53\u001b[0m     \u001b[0mctx\u001b[0m\u001b[0;34m.\u001b[0m\u001b[0mensure_initialized\u001b[0m\u001b[0;34m(\u001b[0m\u001b[0;34m)\u001b[0m\u001b[0;34m\u001b[0m\u001b[0;34m\u001b[0m\u001b[0m\n\u001b[1;32m     54\u001b[0m     tensors = pywrap_tfe.TFE_Py_Execute(ctx._handle, device_name, op_name,\n\u001b[0;32m---> 55\u001b[0;31m                                         inputs, attrs, num_outputs)\n\u001b[0m\u001b[1;32m     56\u001b[0m   \u001b[0;32mexcept\u001b[0m \u001b[0mcore\u001b[0m\u001b[0;34m.\u001b[0m\u001b[0m_NotOkStatusException\u001b[0m \u001b[0;32mas\u001b[0m \u001b[0me\u001b[0m\u001b[0;34m:\u001b[0m\u001b[0;34m\u001b[0m\u001b[0;34m\u001b[0m\u001b[0m\n\u001b[1;32m     57\u001b[0m     \u001b[0;32mif\u001b[0m \u001b[0mname\u001b[0m \u001b[0;32mis\u001b[0m \u001b[0;32mnot\u001b[0m \u001b[0;32mNone\u001b[0m\u001b[0;34m:\u001b[0m\u001b[0;34m\u001b[0m\u001b[0;34m\u001b[0m\u001b[0m\n",
            "\u001b[0;31mKeyboardInterrupt\u001b[0m: "
          ]
        }
      ],
      "source": [
        "def imputation(df):\n",
        "    df = df.replace([9999.99],np.nan)    \n",
        "    imp = SimpleImputer(strategy='mean')\n",
        "    #df=df.dropna(axis=0)\n",
        "    df_mat = imp.fit_transform(df.values)\n",
        "    df = pd.DataFrame(df_mat, index=df.index, columns=df.columns)\n",
        "    return df\n",
        "\n",
        "\n",
        "def gen_time_series_df(dataset, lookback=1, prediction_col=3):\n",
        "    temp_df=dataset.copy()\n",
        "    temp_df[\"id\"]= range(1, len(temp_df)+1)\n",
        "    temp_df = temp_df.iloc[:-lookback, :]\n",
        "    temp_df.set_index('id', inplace =True)\n",
        "    pred_val=dataset.copy()\n",
        "    pred_val = pred_val.iloc[lookback:,prediction_col]\n",
        "    pred_val.columns=[\"Predcited\"]\n",
        "    pred_val= pd.DataFrame(pred_val)    \n",
        "    pred_val[\"id\"]= range(1, len(pred_val)+1)\n",
        "    pred_val.set_index('id', inplace =True)\n",
        "    df= pd.concat([temp_df, pred_val], axis=1)# ensuring prediction column is always -1 index\n",
        "    return df\n",
        "\n",
        "\n",
        "def scale_df(df):\n",
        "    df_vals = df.values\n",
        "    df_vals = df_vals.astype('float32')    \n",
        "    normaliser = MinMaxScaler(feature_range=(0,1))#generating normalizing scaler\n",
        "    df_scaled = normaliser.fit_transform(df_vals) #scaling data\n",
        "    df = pd.DataFrame(df_scaled) \n",
        "    return df,normaliser\n",
        "\n",
        "\n",
        "def train_test_split(df,training_size):\n",
        "    df_vals = df.values\n",
        "    train = df_vals[:int(len(df_vals)*training_size),:]\n",
        "    test = df_vals[int(len(df_vals)*training_size):,:]\n",
        "    X_train, Y_train = train[:, :-1], train[:, -1]\n",
        "    X_test,Y_test = test[:, :-1], test[:, -1]\n",
        "    #reshape input of LSTMN to be 3D= [samples,timesteps,features]\n",
        "    X_train = X_train.reshape((X_train.shape[0], 1, X_train.shape[1]))\n",
        "    X_test = X_test.reshape((X_test.shape[0], 1, X_test.shape[1]))\n",
        "    return X_train,Y_train,X_test,Y_test\n",
        "\n",
        "\n",
        "def build_model():\n",
        "    LSTMN = Sequential()\n",
        "    LSTMN.add(LSTM(20,activation='tanh', return_sequences=True,input_shape=(X_train.shape[1], X_train.shape[2])))\n",
        "    LSTMN.add(LSTM(20, return_sequences=True))\n",
        "    LSTMN.add(Dropout(0.2))\n",
        "    LSTMN.add(LSTM(6))\n",
        "    LSTMN.add(Dense(1))\n",
        "    return LSTMN\n",
        "\n",
        "\n",
        "def LSTMN_compile(LSTMN,X_train,Y_train,X_test,Y_test):\n",
        "    # fit network\n",
        "    LSTMN.compile(loss='mse', optimizer='adam')\n",
        "    LSTMN.summary()\n",
        "    LSTMN_history = LSTMN.fit(X_train, Y_train, epochs=10,validation_data=(X_test, Y_test), batch_size=64, shuffle=False)\n",
        "    trainPredict=  LSTMN.predict(X_train)\n",
        "    testPredict =  LSTMN.predict(X_test)    \n",
        "    pyplot.plot(LSTMN_history.history['loss'], label='LSTMN train')\n",
        "    pyplot.plot(LSTMN_history.history['val_loss'], label='LSTMN test')\n",
        "    pyplot.legend()\n",
        "    pyplot.xlabel('Epoch')\n",
        "    pyplot.ylabel('Loss')\n",
        "    pyplot.title('Loss Graph for the LSTMN')\n",
        "    pyplot.show()\n",
        "    Y_test.reshape(92048,1)# reshaping Y to original shape\n",
        "    return trainPredict,testPredict,Y_test\n",
        "\n",
        "\n",
        "def produce_stats_analysis(testPredict,Y_test):\n",
        "    MSE = mean_squared_error(Y_test, testPredict)\n",
        "    print(MSE)\n",
        "    R2 = r2_score(Y_test, testPredict)\n",
        "    print(R2)\n",
        "    RMSE = sqrt(mean_squared_error(Y_test, testPredict))\n",
        "    print(RMSE)\n",
        "    MAE = mean_absolute_error(Y_test, testPredict)\n",
        "    print(MAE)\n",
        "    return\n",
        "\n",
        "def produce_acc_pred_plt(normaliser):\n",
        "    #visualization over full data\n",
        "    X = np.concatenate([X_train,X_test])\n",
        "    Y = np.concatenate([trainPredict,testPredict])\n",
        "    X=X.reshape(131497,4)\n",
        "    Y=Y.reshape(131497,1)\n",
        "    data=np.hstack([X,Y])\n",
        "    data = np.delete(data,-2,1)\n",
        "    data = normaliser.inverse_transform(data)\n",
        "    data = pd.DataFrame(data)\n",
        "    predicted_windspeed = data.iloc[:,-1]\n",
        "    actual_windspeed= reanalysis_org['Measured_Windspeed']\n",
        "\n",
        "    #true and predicted windspeed plot \n",
        "    pyplot.plot(reanalysis_org['Datet'],actual_windspeed, label = 'Actual')\n",
        "    pyplot.plot(reanalysis_org['Datet'][:-1],predicted_windspeed, label = 'Predicted',)\n",
        "    pyplot.legend()\n",
        "    pyplot.xlabel('Time')\n",
        "    pyplot.ylabel('Predicted Wind Speed m/s')\n",
        "    pyplot.title('Actual and Predicted Windspeed for the years 2002-2016')\n",
        "    pyplot.show()\n",
        "\n",
        "    #Prediction error plot\n",
        "    pyplot.figure()\n",
        "    reanalysis_imputed = imputation(reanalysis)\n",
        "    pred_err = predicted_windspeed - reanalysis_imputed['Measured_Windspeed']\n",
        "    pyplot.plot(reanalysis_org['Datet'],pred_err,color='tab:orange')\n",
        "    pyplot.legend()\n",
        "    pyplot.xlabel('Time')\n",
        "    pyplot.ylabel('Predicted Wind Speed Error m/s')\n",
        "    pyplot.title('Prediction Error in Windspeed for the years 2002-2016')\n",
        "    pyplot.show()\n",
        "    return predicted_windspeed\n",
        "\n",
        "\n",
        "#Main loop\n",
        "if __name__ == '__main__':\n",
        "  df = reanalysis\n",
        "  df = imputation(df)\n",
        "  df,normaliser = scale_df(df)\n",
        "  df = gen_time_series_df(df,1,3) # USAGE gen_time_series_df(dataset,lookback = number of time steps looking back on, prediction_col= what we want to predict)\n",
        "  X_train,Y_train,X_test,Y_test = train_test_split(df,0.7)\n",
        "  LSTMN= build_model()\n",
        "  trainPredict,testPredict,Y_test = LSTMN_compile(LSTMN,X_train,Y_train,X_test,Y_test)\n",
        "  produce_stats_analysis(testPredict,Y_test)\n",
        "  predicted_windspeed = produce_acc_pred_plt(normaliser)\n",
        "\n",
        "  #saving predicted wind speeds\n",
        "  pred_csv= pd.DataFrame(predicted_windspeed).to_csv('predicted_windspeed_new.csv')\n",
        "  !cp predicted_windspeed_new.csv \"drive/My Drive/Dataset\"\n"
      ]
    }
  ],
  "metadata": {
    "colab": {
      "collapsed_sections": [],
      "name": "LSTMN_ws_prediction.ipynb",
      "provenance": []
    },
    "kernelspec": {
      "display_name": "Python 3",
      "name": "python3"
    },
    "language_info": {
      "name": "python"
    }
  },
  "nbformat": 4,
  "nbformat_minor": 0
}