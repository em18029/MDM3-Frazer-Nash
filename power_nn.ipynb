{
 "cells": [
  {
   "cell_type": "code",
   "execution_count": null,
   "metadata": {},
   "outputs": [],
   "source": [
    "def simple_power(predictions):\n",
    "\n",
    "    p = 1.225 #air density kg/m^3\n",
    "    D = 104 #turbine diameter metres\n",
    "    max_power = 3000000 #Watts\n",
    "    cut_out_speed = 25 #m/s\n",
    "    cut_in_speed = 3 #m/s\n",
    "    efficiency = 0.35\n",
    "\n",
    "    power_predictions = ((predictions**3)/2)*p*((pi*D**2)/4)*efficiency\n",
    "\n",
    "    return power_predictions"
   ]
  },
  {
   "cell_type": "code",
   "execution_count": null,
   "metadata": {},
   "outputs": [],
   "source": [
    "def calc_p90_p50(P_predictions):\n",
    "    \n",
    "    import numpy as np\n",
    "\n",
    "    sum(P_predictions)/len(P_predictions)\n",
    "\n",
    "    mean = np.mean(P_predictions)\n",
    "\n",
    "    sd = np.std(P_predictions)\n",
    "\n",
    "    p90 = (mean - 1.282*sd)*365*24\n",
    "    p50 = mean*365.25*24\n",
    "\n",
    "    return p90, p50"
   ]
  },
  {
   "cell_type": "code",
   "execution_count": null,
   "metadata": {},
   "outputs": [],
   "source": [
    "\"\"\" Import predictions as a list/array \"\"\"\n",
    "\n",
    "predictions\n",
    "\n",
    "P_predictions = simple_power(predictions)\n",
    "\n",
    "p90, p50 = calc_p90_p50(P_predictions)"
   ]
  }
 ],
 "metadata": {
  "language_info": {
   "name": "python"
  },
  "orig_nbformat": 4
 },
 "nbformat": 4,
 "nbformat_minor": 2
}
